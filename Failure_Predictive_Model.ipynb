{
 "cells": [
  {
   "cell_type": "code",
   "execution_count": 1,
   "metadata": {},
   "outputs": [],
   "source": [
    "import pandas as pd\n",
    "import os, pickle\n",
    "\n",
    "# Well Segmentation\n",
    "start_date = pd.Timestamp(2018,1,1)\n",
    "end_date   = pd.Timestamp(2019,1,1)\n",
    "\n",
    "cwd = os.getcwd()\n",
    "os.chdir(\"..\")\n",
    "data_dir = os.getcwd() + \"\\\\data\\\\data_train\\\\\"\n",
    "os.chdir(cwd)\n",
    "\n",
    "import datetime\n",
    "# import matplotlib\n",
    "# import matplotlib.pyplot as plt\n",
    "# pd.set_option('display.max_rows', 500)\n",
    "# pd.set_option('display.max_columns', 500)\n",
    "# pd.set_option('display.width', 1000)        \n",
    "\n",
    "# import seaborn as sns\n",
    "\n",
    "from source import data_module\n",
    "\n"
   ]
  },
  {
   "cell_type": "code",
   "execution_count": 2,
   "metadata": {},
   "outputs": [
    {
     "name": "stdout",
     "output_type": "stream",
     "text": [
      "No filter pass. all wells selected\n"
     ]
    },
    {
     "name": "stderr",
     "output_type": "stream",
     "text": [
      "C:\\Users\\evaziyam\\AppData\\Local\\Continuum\\anaconda3\\lib\\site-packages\\pandas\\core\\indexing.py:189: SettingWithCopyWarning: \n",
      "A value is trying to be set on a copy of a slice from a DataFrame\n",
      "\n",
      "See the caveats in the documentation: http://pandas.pydata.org/pandas-docs/stable/indexing.html#indexing-view-versus-copy\n",
      "  self._setitem_with_indexer(indexer, value)\n"
     ]
    },
    {
     "name": "stdout",
     "output_type": "stream",
     "text": [
      "sliding-window calculations...\n"
     ]
    }
   ],
   "source": [
    "from source import data_module\n",
    "\n",
    "\n",
    "RMT = 'ESOZ'\n",
    "\n",
    "failureDataSetName = RMT + 'failureData.pkl'\n",
    "\n",
    "incomplete_wells = data_module.prepare_train_data(RMT, data_dir, start_date, end_date, failureDataSetName)\n"
   ]
  },
  {
   "cell_type": "markdown",
   "metadata": {},
   "source": [
    "#                                            PUMP FAILURE:         TRAIN ML MODEL"
   ]
  },
  {
   "cell_type": "code",
   "execution_count": 3,
   "metadata": {
    "scrolled": false
   },
   "outputs": [
    {
     "name": "stderr",
     "output_type": "stream",
     "text": [
      "C:\\Users\\evaziyam\\AppData\\Local\\Continuum\\anaconda3\\lib\\site-packages\\sklearn\\ensemble\\weight_boosting.py:29: DeprecationWarning: numpy.core.umath_tests is an internal NumPy module and should not be imported. It will be removed in a future NumPy release.\n",
      "  from numpy.core.umath_tests import inner1d\n",
      "Using TensorFlow backend.\n"
     ]
    },
    {
     "name": "stdout",
     "output_type": "stream",
     "text": [
      "df-len=2390\n",
      "new df-len=2390\n",
      "df-len=620\n",
      "new df-len=620\n"
     ]
    },
    {
     "name": "stderr",
     "output_type": "stream",
     "text": [
      "C:\\Users\\evaziyam\\PycharmProjects\\Pump-Failure-Prediction\\source\\failure_machine_learning.py:453: SettingWithCopyWarning: \n",
      "A value is trying to be set on a copy of a slice from a DataFrame\n",
      "\n",
      "See the caveats in the documentation: http://pandas.pydata.org/pandas-docs/stable/indexing.html#indexing-view-versus-copy\n",
      "  ml_df.dropna(axis='rows', inplace=True)\n"
     ]
    },
    {
     "name": "stdout",
     "output_type": "stream",
     "text": [
      "\n",
      " *** RUNNING RANDOM SAMPLE # 1 *** \n",
      "\n",
      "# columns: 113\n",
      "# examples: training=2390  test=620\n",
      "# training positives   = 0.1\n",
      "# test positives   = 0.1\n",
      "Applying RF algorithm ... \n",
      "\n",
      "Model Report\n",
      "Test Accuracy : 0.9\n",
      "Test Recall score: 0.00\n",
      "Test Precision score: 0.00\n",
      "Test ROC-AUC Score : 0.606732\n",
      "Test score = 0.90\n",
      "Test average precision-recall score: 0.10\n"
     ]
    },
    {
     "name": "stderr",
     "output_type": "stream",
     "text": [
      "C:\\Users\\evaziyam\\AppData\\Local\\Continuum\\anaconda3\\lib\\site-packages\\sklearn\\metrics\\classification.py:1135: UndefinedMetricWarning: Precision is ill-defined and being set to 0.0 due to no predicted samples.\n",
      "  'precision', 'predicted', average, warn_for)\n"
     ]
    },
    {
     "data": {
      "text/plain": [
       "<Figure size 2000x1000 with 1 Axes>"
      ]
     },
     "metadata": {},
     "output_type": "display_data"
    },
    {
     "data": {
      "text/plain": [
       "<Figure size 1500x1000 with 1 Axes>"
      ]
     },
     "metadata": {},
     "output_type": "display_data"
    }
   ],
   "source": [
    "# import train_module, importlib\n",
    "# importlib.reload(train_module)\n",
    "\n",
    "from source import train_module\n",
    "\n",
    "\n",
    "# failureDataSetName = 'failureDataset_1Df_1D.pkl'\n",
    "\n",
    "\n",
    "RMT_list = ['ESOZ']\n",
    "\n",
    "# failureDataSetName='_failureDataset_6stat_pureSlide_new.pkl'\n",
    "# failureDataSetName='_failureDataset_1Df_1D_early.pkl'\n",
    "# failureDataSetName='_failureDataset_1Df_1D_gradSlide.pkl'\n",
    "failureDataSetName = 'failureData.pkl'\n",
    "\n",
    "\n",
    "FailMode = 'PUMP'\n",
    "\n",
    "RMT = 'ESOZ'\n",
    "\n",
    "# training_model_save_name = RMT + FailMode + failureDataSetName[:-4] + 'RF_trainedModel.pkl'\n",
    "\n",
    "# trainOpts_ml = {'model_type':'ML',\n",
    "#                 'data_dir':data_dir,\n",
    "#                 'RMT_LIST':RMT_list,\n",
    "#                 'input_data_name':failureDataSetName,\n",
    "#                 'model_save_name':training_model_save_name,\n",
    "#                 'run_split':True,\n",
    "#                 'pre_fail_days':30,\n",
    "#                 'lurning_curve':False,\n",
    "#                 'plot_loss':True}\n",
    "\n",
    "# # 'ROD PUMP FAILURE': ['SANDED', 'LOW PRODUCTION']\n",
    "# # 'TUBING FAILURE (LEAK)':[]\n",
    "# # 'CENSORED': ['CENSORED'],\n",
    "\n",
    "# configs_ml = { 'seg_filter':{'ROD PUMP FAILURE': ['SANDED', 'LOW PRODUCTION'],\n",
    "#                             'CENSORED': ['CENSORED'] },\n",
    "#               'YLABEL':'Target',\n",
    "#                 'drop_cols_x':['Target'],                    \n",
    "#                 'val_size': 0.2,\n",
    "#                 'holdout': 0.02,\n",
    "#                 'fail_ratio':0.1,\n",
    "#                 'n_samples':100000 }\n",
    "\n",
    "run_model = True\n",
    "if run_model:\n",
    "    ml_models, model_pars_ml = train_module.train_failure_model(RMT, data_dir, failureDataSetName)\n",
    "else:\n",
    "    model_save_name = data_dir + trainOpts_ml['model_save_name']\n",
    "    with open(model_save_name, 'rb') as f:\n",
    "        ml_models, model_pars_ml = pickle.load(f)\n",
    "                "
   ]
  },
  {
   "cell_type": "markdown",
   "metadata": {},
   "source": [
    "# ML Model Selection, Testing & Save"
   ]
  },
  {
   "cell_type": "code",
   "execution_count": 4,
   "metadata": {
    "scrolled": false
   },
   "outputs": [
    {
     "name": "stdout",
     "output_type": "stream",
     "text": [
      " [ESOZ_81] 04030628790000 [Primary = CENSORED, Secondary=CENSORED ]\n",
      "7\n",
      "date_vec: 7\n",
      "t_valid 7\n",
      "y_pred 7\n"
     ]
    },
    {
     "name": "stderr",
     "output_type": "stream",
     "text": [
      "C:\\Users\\evaziyam\\PycharmProjects\\Pump-Failure-Prediction\\source\\failure_machine_learning.py:551: SettingWithCopyWarning: modifications to a property of a datetimelike object are not supported and are discarded. Change values on the original.\n",
      "  days_int[0] = 1\n",
      "C:\\Users\\evaziyam\\AppData\\Local\\Continuum\\anaconda3\\lib\\site-packages\\matplotlib\\font_manager.py:1241: UserWarning: findfont: Font family ['normal'] not found. Falling back to DejaVu Sans.\n",
      "  (prop.get_family(), self.defaultFamily[fontext]))\n"
     ]
    },
    {
     "data": {
      "image/png": "[encoded data removed]",
      "text/plain": [
       "<Figure size 1440x720 with 1 Axes>"
      ]
     },
     "metadata": {
      "needs_background": "light"
     },
     "output_type": "display_data"
    }
   ],
   "source": [
    "import pickle\n",
    "\n",
    "verified_model_save_name = RMT + failureDataSetName[:-4] + 'RF_verifiedModel.pkl'\n",
    "\n",
    "failure_decision_pars = {'decision_threshold': 0.1,\n",
    "                      'days_to_failure': 30,\n",
    "                      'max_delta_days': 50  ,\n",
    "                      'alarm_confidence':0.5,\n",
    "                      'min_diffConfidence': 0.5,\n",
    "                      'days_to_reset_cumFailDays':30}\n",
    "\n",
    "date_lim = [start_date, end_date]\n",
    "trainOpts_ml = {'data_dir':data_dir,\n",
    "                'input_data_name':failureDataSetName,\n",
    "                'save_trained_model':True,\n",
    "                'trained_model_name':verified_model_save_name,\n",
    "                'plot_test':True}\n",
    "\n",
    "model_ml = ml_models[0]\n",
    "if 'Target' in model_pars_ml['columns_all']:\n",
    "    model_pars_ml['columns_all'].remove('Target')\n",
    "    \n",
    "\n",
    "train_module.test_trained_failure_model(model_ml, model_pars_ml, failure_decision_pars,  trainOpts_ml, date_lim)       \n"
   ]
  },
  {
   "cell_type": "markdown",
   "metadata": {},
   "source": [
    "# ***************************************************************************************"
   ]
  }
 ],
 "metadata": {
  "anaconda-cloud": {},
  "kernelspec": {
   "display_name": "Python 3",
   "language": "python",
   "name": "python3"
  },
  "language_info": {
   "codemirror_mode": {
    "name": "ipython",
    "version": 3
   },
   "file_extension": ".py",
   "mimetype": "text/x-python",
   "name": "python",
   "nbconvert_exporter": "python",
   "pygments_lexer": "ipython3",
   "version": "3.6.8"
  }
 },
 "nbformat": 4,
 "nbformat_minor": 2
}
